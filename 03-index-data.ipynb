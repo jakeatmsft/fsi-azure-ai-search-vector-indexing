{
  "cells": [
    {
      "cell_type": "markdown",
      "id": "153d560d-a721-426e-9976-913d8bae17cf",
      "metadata": {},
      "source": [
        "# Index Data\n",
        "Purpose is to uplaod the data to the Azure AI Search Index\n",
        "This uses the PUSH API, however it is also very viable to use the Azure AI Search Indexer that points to the JSON files directly\n",
        "\n",
        "## Required for this step\n",
        "- Azure AI Search Service\n",
        "\n",
        "## Important\n",
        "- Ensure that Semantic Ranker is enabled in Azure AI Search service\n",
        "\n"
      ]
    },
    {
      "cell_type": "code",
      "execution_count": null,
      "id": "4c399b70-9d9b-4a12-8f76-437b669cc462",
      "metadata": {},
      "outputs": [],
      "source": [
        "# # Import required libraries  \n",
        "import os  \n",
        "import json\n",
        "from azure.core.credentials import AzureKeyCredential  \n",
        "from azure.search.documents import SearchClient  \n",
        "from azure.search.documents.indexes import SearchIndexClient, SearchIndexerClient  \n"
      ]
    },
    {
      "cell_type": "code",
      "execution_count": null,
      "id": "fed974b8-42bc-43fa-87ce-ecee61abb09c",
      "metadata": {},
      "outputs": [],
      "source": [
        "#Load the configuration details for the Cognitive Search Service and Azure OpenAI Instance\n",
        "#Credentials should be secured using a more secure method such as Azure KeyVault\n",
        "\n",
        "from dotenv import load_dotenv\n",
        "load_dotenv()\n",
        "\n",
        "# Load configuration from environment variables\n",
        "config = {\n",
        "    \"search_service_name\": os.getenv(\"SEARCH_SERVICE_NAME\"),\n",
        "    \"search_admin_key\": os.getenv(\"SEARCH_ADMIN_KEY\"),\n",
        "    \"search_index_name\": os.getenv(\"SEARCH_INDEX_NAME\"),\n",
        "    \"search_index_schema_file\": os.getenv(\"SEARCH_INDEX_SCHEMA_FILE\"),\n",
        "    \"search_api_version\": os.getenv(\"SEARCH_API_VERSION\", \"2023-07-01\"),\n",
        "    \"data_root_dir\": os.getenv(\"DATA_ROOT_DIR\", \"./data\")\n",
        "}\n",
        "\n",
        "    \n",
        "# Azure AI Search Config\n",
        "search_service_name = config[\"search_service_name\"]\n",
        "search_service_url = \"https://{}.search.windows.net/\".format(search_service_name)\n",
        "search_admin_key = config[\"search_admin_key\"]\n",
        "index_name = config[\"search_index_name\"]\n",
        "index_schema_file = config[\"search_index_schema_file\"]\n",
        "search_api_version = config[\"search_api_version\"]\n",
        "search_headers = {  \n",
        "    'Content-Type': 'application/json',  \n",
        "    'api-key': search_admin_key  \n",
        "}  \n",
        "\n",
        "index_client = SearchIndexClient(\n",
        "        endpoint=search_service_url, credential=AzureKeyCredential(search_admin_key))\n",
        "search_client = SearchClient(endpoint=search_service_url, index_name=index_name, credential=AzureKeyCredential(search_admin_key))\n",
        "\n",
        "print ('Search Service Name:', search_service_name)\n",
        "print ('Index Name:', index_name)\n",
        "\n",
        "# Set a temp directory for downloading pdf's for processing\n",
        "data_root_dir = config[\"data_root_dir\"]\n",
        "json_dir = os.path.join(data_root_dir, \"json\")\n",
        "print ('JSON Dir:', json_dir)"
      ]
    },
    {
      "cell_type": "code",
      "execution_count": null,
      "id": "d6e49025-089a-4043-ac66-4e3f681b3c16",
      "metadata": {},
      "outputs": [],
      "source": [
        "# Get all files in dir\n",
        "def get_files_in_dir(in_dir):\n",
        "    return [os.path.join(dp, f) for dp, dn, filenames in os.walk(in_dir) for f in filenames]\n"
      ]
    },
    {
      "cell_type": "code",
      "execution_count": null,
      "id": "65da4589-f394-46cc-8a45-52288fbd876f",
      "metadata": {},
      "outputs": [],
      "source": [
        "json_docs = get_files_in_dir(json_dir)\n",
        "total_files = len(json_docs)\n",
        "print ('Total Files to upload:', total_files)"
      ]
    },
    {
      "cell_type": "code",
      "execution_count": null,
      "id": "77fd01d0-dec0-460a-b2fd-c26905dea414",
      "metadata": {},
      "outputs": [],
      "source": [
        "for json_doc in json_docs:\n",
        "    print (json_doc)\n",
        "    with open(json_doc, \"r\") as j_in:\n",
        "        documents = json.loads(j_in.read())\n",
        "\n",
        "    result = search_client.upload_documents(documents)  \n",
        "    print(f\"Uploaded {len(documents)} chunks\") "
      ]
    },
    {
      "cell_type": "code",
      "execution_count": null,
      "id": "5eb64465-60c2-4b0f-9d46-79ab925af53b",
      "metadata": {},
      "outputs": [],
      "source": []
    }
  ],
  "metadata": {
    "kernelspec": {
      "display_name": "oai",
      "language": "python",
      "name": "python3"
    },
    "language_info": {
      "codemirror_mode": {
        "name": "ipython",
        "version": 3
      },
      "file_extension": ".py",
      "mimetype": "text/x-python",
      "name": "python",
      "nbconvert_exporter": "python",
      "pygments_lexer": "ipython3",
      "version": "3.12.9"
    }
  },
  "nbformat": 4,
  "nbformat_minor": 5
}