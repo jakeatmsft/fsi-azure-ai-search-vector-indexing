{
  "cells": [
    {
      "cell_type": "markdown",
      "id": "ac1289b2",
      "metadata": {},
      "source": [
        "# Azure AI Agent with Azure AI Search\n",
        "\n",
        "This tutorial shows how to:\n",
        "1) Create an Azure AI client, 2) Configure the Azure AI Search tool, 3) Create an agent, 4) Ask a question against your search index, and 5) Clean up resources."
      ]
    },
    {
      "cell_type": "markdown",
      "id": "c9979fc9",
      "metadata": {},
      "source": [
        "## Prerequisites\n",
        "- An Azure AI Project with access to your Azure AI Search connection.\n",
        "- An Azure OpenAI model deployment name in your project.\n",
        "- Environment variables set:\n",
        "  - `PROJECT_ENDPOINT` (Azure AI Project endpoint)\n",
        "  - `MODEL_DEPLOYMENT_NAME` (your model deployment name)\n",
        "  - Optional: `search_index_name` (defaults to `finance-pro` from your repo)\n",
        "\n",
        "You can set environment variables (PowerShell):\n",
        "```pwsh\n",
        "$env:PROJECT_ENDPOINT = \"https://<your-project-endpoint>\"\n",
        "$env:MODEL_DEPLOYMENT_NAME = \"<your-model-deployment-name>\"\n",
        "$env:search_index_name = \"finance-pro\"\n",
        "```"
      ]
    },
    {
      "cell_type": "code",
      "execution_count": null,
      "id": "e3fe33e8",
      "metadata": {
        "tags": [
          "setup"
        ]
      },
      "outputs": [],
      "source": [
        "%pip install -q azure-ai-projects azure-ai-agents azure-identity python-dotenv"
      ]
    },
    {
      "cell_type": "code",
      "execution_count": null,
      "id": "761ac990",
      "metadata": {
        "tags": [
          "env"
        ]
      },
      "outputs": [],
      "source": [
        "import os\n",
        "from dotenv import load_dotenv\n",
        "\n",
        "# Load .env if present\n",
        "load_dotenv()\n",
        "\n",
        "PROJECT_ENDPOINT = os.getenv(\"PROJECT_ENDPOINT\")\n",
        "MODEL_DEPLOYMENT_NAME = os.getenv(\"MODEL_DEPLOYMENT_NAME\")\n",
        "INDEX_NAME = os.getenv(\"search_index_name\", \"finance-pro\")\n",
        "\n",
        "missing = [name for name, val in {\n",
        "    \"PROJECT_ENDPOINT\": PROJECT_ENDPOINT,\n",
        "    \"MODEL_DEPLOYMENT_NAME\": MODEL_DEPLOYMENT_NAME\n",
        "}.items() if not val]\n",
        "if missing:\n",
        "    raise RuntimeError(f\"Missing required environment variables: {', '.join(missing)}\")\n",
        "\n",
        "print(\"Environment OK. Using index:\", INDEX_NAME)"
      ]
    },
    {
      "cell_type": "markdown",
      "id": "b0f21f0d",
      "metadata": {},
      "source": [
        "## 1) Create an Azure AI Client"
      ]
    },
    {
      "cell_type": "code",
      "execution_count": null,
      "id": "b067dc35",
      "metadata": {
        "tags": [
          "client"
        ]
      },
      "outputs": [],
      "source": [
        "from azure.ai.projects import AIProjectClient\n",
        "from azure.identity import DefaultAzureCredential\n",
        "\n",
        "project_client = AIProjectClient(\n",
        "    endpoint=PROJECT_ENDPOINT,\n",
        "    credential=DefaultAzureCredential(exclude_interactive_browser_credential=False),\n",
        ")\n",
        "project_client"
      ]
    },
    {
      "cell_type": "markdown",
      "id": "f1cf57b2",
      "metadata": {},
      "source": [
        "## 2) Configure the Azure AI Search tool\n",
        "Uses the default Azure AI Search connection configured in your Azure AI Project."
      ]
    },
    {
      "cell_type": "code",
      "execution_count": null,
      "id": "67e9f95e",
      "metadata": {
        "tags": [
          "search"
        ]
      },
      "outputs": [],
      "source": [
        "from azure.ai.agents.models import AzureAISearchTool, AzureAISearchQueryType\n",
        "from azure.ai.projects.models import ConnectionType\n",
        "\n",
        "# Get the default Azure AI Search connection ID from the project\n",
        "try:\n",
        "    azure_ai_conn_id = project_client.connections.get_default(ConnectionType.AZURE_AI_SEARCH).id\n",
        "except Exception as ex:\n",
        "    raise RuntimeError(\"Failed to get default Azure AI Search connection ID\")\n",
        "\n",
        "ai_search = AzureAISearchTool(\n",
        "    index_connection_id=azure_ai_conn_id,\n",
        "    index_name=INDEX_NAME,\n",
        "    query_type=AzureAISearchQueryType.SIMPLE,  # SIMPLE or SEMANTIC\n",
        "    top_k=3,\n",
        "    filter=\"\"\n",
        ")\n",
        "ai_search"
      ]
    },
    {
      "cell_type": "markdown",
      "id": "ae1a2991",
      "metadata": {},
      "source": [
        "## 3) Create an agent with the Azure AI Search tool"
      ]
    },
    {
      "cell_type": "code",
      "execution_count": null,
      "id": "8a82285f",
      "metadata": {
        "tags": [
          "agent"
        ]
      },
      "outputs": [],
      "source": [
        "agent = project_client.agents.create_agent(\n",
        "    model=MODEL_DEPLOYMENT_NAME,\n",
        "    name=\"my-agent\",\n",
        "    instructions=\"You are a helpful agent that answers questions using the Azure AI Search tool.\",\n",
        "    tools=ai_search.definitions,\n",
        "    tool_resources=ai_search.resources,\n",
        ")\n",
        "print(f\"Created agent, ID: {agent.id}\")"
      ]
    },
    {
      "cell_type": "markdown",
      "id": "a9279f4e",
      "metadata": {},
      "source": [
        "## 4) Ask the agent questions about data in the index"
      ]
    },
    {
      "cell_type": "code",
      "execution_count": null,
      "id": "8ebd9663",
      "metadata": {
        "tags": [
          "run"
        ]
      },
      "outputs": [],
      "source": [
        "from azure.ai.agents.models import MessageRole, ListSortOrder\n",
        "\n",
        "# Create a thread for communication\n",
        "thread = project_client.agents.threads.create()\n",
        "print(f\"Created thread, ID: {thread.id}\")\n",
        "\n",
        "# Send a message to the thread\n",
        "message = project_client.agents.messages.create(\n",
        "    thread_id=thread.id,\n",
        "    role=MessageRole.USER,\n",
        "    content=\"Whow do you value a company??\",\n",
        ")\n",
        "print(f\"Created message, ID: {message.id}\")\n",
        "\n",
        "# Create and process a run\n",
        "run = project_client.agents.runs.create_and_process(thread_id=thread.id, agent_id=agent.id)\n",
        "print(f\"Run finished with status: {run.status}\")\n",
        "if run.status == \"failed\":\n",
        "    print(f\"Run failed: {run.last_error}\")\n",
        "\n",
        "# Fetch messages\n",
        "messages = project_client.agents.messages.list(thread_id=thread.id, order=ListSortOrder.ASCENDING)\n",
        "for m in messages:\n",
        "    print(m.content)"
      ]
    },
    {
      "cell_type": "markdown",
      "id": "aa068ee5",
      "metadata": {},
      "source": [
        "## 5) Clean up resources (optional)"
      ]
    },
    {
      "cell_type": "code",
      "execution_count": null,
      "id": "3fb69cbd",
      "metadata": {
        "tags": [
          "cleanup"
        ]
      },
      "outputs": [],
      "source": [
        "project_client.agents.delete_agent(agent.id)\n",
        "print(\"Deleted agent\")"
      ]
    }
  ],
  "metadata": {
    "kernelspec": {
      "display_name": "oai",
      "language": "python",
      "name": "python3"
    },
    "language_info": {
      "codemirror_mode": {
        "name": "ipython",
        "version": 3
      },
      "file_extension": ".py",
      "mimetype": "text/x-python",
      "name": "python",
      "nbconvert_exporter": "python",
      "pygments_lexer": "ipython3",
      "version": "3.12.9"
    }
  },
  "nbformat": 4,
  "nbformat_minor": 5
}